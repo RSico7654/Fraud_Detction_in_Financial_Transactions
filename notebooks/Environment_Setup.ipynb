{
  "nbformat": 4,
  "nbformat_minor": 0,
  "metadata": {
    "colab": {
      "provenance": [],
      "authorship_tag": "ABX9TyOLQ4liUqVwynP/hHdI07UJ",
      "include_colab_link": true
    },
    "kernelspec": {
      "name": "python3",
      "display_name": "Python 3"
    },
    "language_info": {
      "name": "python"
    }
  },
  "cells": [
    {
      "cell_type": "markdown",
      "metadata": {
        "id": "view-in-github",
        "colab_type": "text"
      },
      "source": [
        "<a href=\"https://colab.research.google.com/github/RSico7654/Fraud_Detction_in_Financial_Transactions/blob/main/notebooks/Environment_Setup.ipynb\" target=\"_parent\"><img src=\"https://colab.research.google.com/assets/colab-badge.svg\" alt=\"Open In Colab\"/></a>"
      ]
    },
    {
      "cell_type": "code",
      "source": [
        "# Clone repo into Colab\n",
        "!git clone https://github.com/RSico7654/Fraud_Detction_in_Financial_Transactions.git\n",
        "\n",
        "# Check you are inside repo\n",
        "%cd /content/Fraud_Detction_in_Financial_Transactions"
      ],
      "metadata": {
        "id": "gZEd5IHXPCKm"
      },
      "execution_count": null,
      "outputs": []
    }
  ]
}