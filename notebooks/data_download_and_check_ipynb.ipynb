{
  "nbformat": 4,
  "nbformat_minor": 0,
  "metadata": {
    "colab": {
      "provenance": [],
      "authorship_tag": "ABX9TyND16n1b59siKQh7uIhZTf0",
      "include_colab_link": true
    },
    "kernelspec": {
      "name": "python3",
      "display_name": "Python 3"
    },
    "language_info": {
      "name": "python"
    }
  },
  "cells": [
    {
      "cell_type": "markdown",
      "metadata": {
        "id": "view-in-github",
        "colab_type": "text"
      },
      "source": [
        "<a href=\"https://colab.research.google.com/github/RSico7654/Fraud_Detction_in_Financial_Transactions/blob/main/notebooks/data_download_and_check_ipynb.ipynb\" target=\"_parent\"><img src=\"https://colab.research.google.com/assets/colab-badge.svg\" alt=\"Open In Colab\"/></a>"
      ]
    },
    {
      "cell_type": "code",
      "source": [
        "# Clone repo into Colab\n",
        "!git clone https://github.com/RSico7654/Fraud_Detction_in_Financial_Transactions.git\n",
        "\n",
        "# Check you are inside repo\n",
        "%cd /content/Fraud_Detction_in_Financial_Transactions"
      ],
      "metadata": {
        "id": "XYyB9fhdMKmn"
      },
      "execution_count": null,
      "outputs": []
    },
    {
      "cell_type": "markdown",
      "source": [
        "## **Before Running the following codes, make sure to download the Kaggle API key. To get the Kaggle API key do these steps:-**\n",
        "\n",
        "1. Login to your Kaggle Account.\n",
        "2. Go to your profile -> Settings -> Create New API Token\n",
        "3. A file named kaggle.json will download.\n",
        "4. Upon running the following command you will be asked to upload a file, upload the kaggle.json file."
      ],
      "metadata": {
        "id": "vJYjYhtnGxTL"
      }
    },
    {
      "cell_type": "code",
      "execution_count": null,
      "metadata": {
        "id": "EaucUY7kFMLb"
      },
      "outputs": [],
      "source": [
        "# =========================================\n",
        "# Fraud Detection Project - Dataset Download\n",
        "# =========================================\n",
        "\n",
        "# Step 1: Upload Kaggle API key\n",
        "from google.colab import files\n",
        "files.upload()  # <-- Upload kaggle.json here\n",
        "\n",
        "# Step 2: Setup Kaggle directory\n",
        "!mkdir -p ~/.kaggle\n",
        "!cp kaggle.json ~/.kaggle/\n",
        "!chmod 600 ~/.kaggle/kaggle.json\n",
        "\n",
        "# Step 3: Download dataset (Credit Card Fraud)\n",
        "!kaggle datasets download -d mlg-ulb/creditcardfraud\n",
        "\n",
        "# Step 4: Unzip into /data folder\n",
        "!mkdir -p data\n",
        "!unzip -o creditcardfraud.zip -d data/\n",
        "\n",
        "# Step 5: Load dataset with pandas\n",
        "import pandas as pd\n",
        "\n",
        "df = pd.read_csv(\"data/creditcard.csv\")\n",
        "print(\"Shape of dataset:\", df.shape)\n",
        "\n",
        "# Preview first rows\n",
        "df.head()\n"
      ]
    },
    {
      "cell_type": "code",
      "source": [
        "# Check column info\n",
        "print(df.info())\n",
        "\n",
        "# Missing values\n",
        "print(\"Missing values:\\n\", df.isnull().sum())\n",
        "\n",
        "# Fraud vs Non-Fraud distribution\n",
        "print(\"Class distribution:\\n\", df['Class'].value_counts())\n",
        "\n",
        "# Fraud percentage\n",
        "fraud_ratio = df['Class'].value_counts(normalize=True) * 100\n",
        "print(\"Fraud ratio (%):\\n\", fraud_ratio)\n"
      ],
      "metadata": {
        "id": "s4Gy7lB4Fb4h"
      },
      "execution_count": null,
      "outputs": []
    }
  ]
}